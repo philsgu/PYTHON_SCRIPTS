{
 "cells": [
  {
   "cell_type": "code",
   "execution_count": 1,
   "id": "71bb97d5",
   "metadata": {},
   "outputs": [],
   "source": [
    "import pandas as pd"
   ]
  },
  {
   "cell_type": "code",
   "execution_count": 2,
   "id": "4d9728a3",
   "metadata": {},
   "outputs": [
    {
     "name": "stdout",
     "output_type": "stream",
     "text": [
      "<class 'pandas.core.frame.DataFrame'>\n",
      "RangeIndex: 1 entries, 0 to 0\n",
      "Data columns (total 8 columns):\n",
      " #   Column                                                     Non-Null Count  Dtype \n",
      "---  ------                                                     --------------  ----- \n",
      " 0   Submission ID                                              1 non-null      object\n",
      " 1   Respondent ID                                              1 non-null      object\n",
      " 2   Submitted at                                               1 non-null      object\n",
      " 3   poster_id                                                  1 non-null      object\n",
      " 4   posterlink                                                 1 non-null      object\n",
      " 5   Please enter your full name                                1 non-null      object\n",
      " 6   Department?                                                1 non-null      object\n",
      " 7   What did you like about poster ID: @poster_id  (Optional)  1 non-null      object\n",
      "dtypes: object(8)\n",
      "memory usage: 196.0+ bytes\n"
     ]
    }
   ],
   "source": [
    "# For Fan Fav Google Sheet \n",
    "# For Fan Fav Google Sheet\n",
    "sheet_id = \"https://docs.google.com/spreadsheets/d/1Xt5E3iyr_QL9jL8xNQ3mQ9IY8WuAC1JnDyeueYtvErc/edit?usp=sharing\"\n",
    "csv_url = f\"https://docs.google.com/spreadsheets/d/{sheet_id.split('/')[-2]}/export?format=csv\"\n",
    "df_fan_fav = pd.read_csv(csv_url)\n",
    "df_fan_fav.info()"
   ]
  },
  {
   "cell_type": "code",
   "execution_count": 3,
   "id": "8c2fb333",
   "metadata": {},
   "outputs": [
    {
     "name": "stdout",
     "output_type": "stream",
     "text": [
      "<class 'pandas.core.frame.DataFrame'>\n",
      "RangeIndex: 62 entries, 0 to 61\n",
      "Data columns (total 18 columns):\n",
      " #   Column                                                   Non-Null Count  Dtype \n",
      "---  ------                                                   --------------  ----- \n",
      " 0   POSTER_ID                                                62 non-null     object\n",
      " 1   Submission ID                                            62 non-null     object\n",
      " 2   Respondent ID                                            62 non-null     object\n",
      " 3   Submitted at                                             62 non-null     object\n",
      " 4   PI's Full Name                                           62 non-null     object\n",
      " 5   GME Department                                           62 non-null     object\n",
      " 6   Department Position                                      62 non-null     object\n",
      " 7   Do you have other contributing members on the project?   62 non-null     object\n",
      " 8   Other Project Member(s)                                  55 non-null     object\n",
      " 9   Who is the SAMC GME faculty advisor to this project?     57 non-null     object\n",
      " 10  Please provide faculty Email Address                     57 non-null     object\n",
      " 11  Has the faculty advisor seen and reviewed this project?  57 non-null     object\n",
      " 12  Poster Category                                          62 non-null     object\n",
      " 13  Poster Title                                             62 non-null     object\n",
      " 14  Specialty Topic                                          62 non-null     object\n",
      " 15  SUMMARY                                                  62 non-null     object\n",
      " 16  POSTER_URL                                               62 non-null     object\n",
      " 17  FAN_FAV_URL                                              62 non-null     object\n",
      "dtypes: object(18)\n",
      "memory usage: 8.8+ KB\n"
     ]
    }
   ],
   "source": [
    "# Main Poster Data\n",
    "sheet_main_poster = \"https://docs.google.com/spreadsheets/d/1A165s6AM7IWTP62z87W34PmnwAjPrtY395fMTunKISY/edit?usp=sharing\"\n",
    "csv_url_main_poster = f\"https://docs.google.com/spreadsheets/d/{sheet_main_poster.split('/')[-2]}/export?format=csv\"\n",
    "df_main_poster = pd.read_csv(csv_url_main_poster)\n",
    "df_main_poster.info()"
   ]
  },
  {
   "cell_type": "code",
   "execution_count": null,
   "id": "3af7b6ef",
   "metadata": {},
   "outputs": [],
   "source": [
    "# Rename the 'Poster ID' column in df_fan_fav for clarity during the merge\n",
    "df_fan_fav = df_fan_fav.rename(columns={'poster_id': 'POSTER_ID'})\n"
   ]
  },
  {
   "cell_type": "code",
   "execution_count": 5,
   "id": "7e4cc764",
   "metadata": {},
   "outputs": [],
   "source": [
    "# Merge the two DataFrames based on the common Poster ID\n",
    "merged_df = pd.merge(df_fan_fav, df_main_poster[[\"POSTER_ID\", \"Poster Title\", \"PI's Full Name\"]], left_on=\"POSTER_ID\", right_on=\"POSTER_ID\", how='left')"
   ]
  },
  {
   "cell_type": "code",
   "execution_count": 6,
   "id": "73b0af18",
   "metadata": {},
   "outputs": [],
   "source": [
    "# Update the df_fan_fav DataFrame with the matched columns\n",
    "df_fan_fav['Poster Title'] = merged_df['Poster Title']\n",
    "df_fan_fav[\"PI's Full Name\"] = merged_df[\"PI's Full Name\"]\n"
   ]
  },
  {
   "cell_type": "code",
   "execution_count": 7,
   "id": "b2f1edb3",
   "metadata": {},
   "outputs": [
    {
     "name": "stdout",
     "output_type": "stream",
     "text": [
      "Updated Fan Fav DataFrame:\n"
     ]
    },
    {
     "data": {
      "text/html": [
       "<div>\n",
       "<style scoped>\n",
       "    .dataframe tbody tr th:only-of-type {\n",
       "        vertical-align: middle;\n",
       "    }\n",
       "\n",
       "    .dataframe tbody tr th {\n",
       "        vertical-align: top;\n",
       "    }\n",
       "\n",
       "    .dataframe thead th {\n",
       "        text-align: right;\n",
       "    }\n",
       "</style>\n",
       "<table border=\"1\" class=\"dataframe\">\n",
       "  <thead>\n",
       "    <tr style=\"text-align: right;\">\n",
       "      <th></th>\n",
       "      <th>Submission ID</th>\n",
       "      <th>Respondent ID</th>\n",
       "      <th>Submitted at</th>\n",
       "      <th>POSTER_ID</th>\n",
       "      <th>posterlink</th>\n",
       "      <th>Please enter your full name</th>\n",
       "      <th>Department?</th>\n",
       "      <th>What did you like about poster ID: @poster_id  (Optional)</th>\n",
       "      <th>Poster Title</th>\n",
       "      <th>PI's Full Name</th>\n",
       "    </tr>\n",
       "  </thead>\n",
       "  <tbody>\n",
       "    <tr>\n",
       "      <th>0</th>\n",
       "      <td>J9l9067</td>\n",
       "      <td>MZoqWX</td>\n",
       "      <td>2025-05-11 23:08:17</td>\n",
       "      <td>64C</td>\n",
       "      <td>https://samcresearchday.streamlit.app/year_202...</td>\n",
       "      <td>John Doe</td>\n",
       "      <td>Emergency Medicine</td>\n",
       "      <td>TESTING</td>\n",
       "      <td>A Case Report on Methemoglobinemia and Encepha...</td>\n",
       "      <td>Ruqayya Gill</td>\n",
       "    </tr>\n",
       "  </tbody>\n",
       "</table>\n",
       "</div>"
      ],
      "text/plain": [
       "  Submission ID Respondent ID         Submitted at POSTER_ID  \\\n",
       "0       J9l9067        MZoqWX  2025-05-11 23:08:17       64C   \n",
       "\n",
       "                                          posterlink  \\\n",
       "0  https://samcresearchday.streamlit.app/year_202...   \n",
       "\n",
       "  Please enter your full name         Department?  \\\n",
       "0                    John Doe  Emergency Medicine   \n",
       "\n",
       "  What did you like about poster ID: @poster_id  (Optional)  \\\n",
       "0                                            TESTING          \n",
       "\n",
       "                                        Poster Title PI's Full Name  \n",
       "0  A Case Report on Methemoglobinemia and Encepha...   Ruqayya Gill  "
      ]
     },
     "execution_count": 7,
     "metadata": {},
     "output_type": "execute_result"
    }
   ],
   "source": [
    "# Display the updated df_fan_fav DataFrame\n",
    "print(\"Updated Fan Fav DataFrame:\")\n",
    "df_fan_fav.head()\n"
   ]
  }
 ],
 "metadata": {
  "kernelspec": {
   "display_name": ".venv",
   "language": "python",
   "name": "python3"
  },
  "language_info": {
   "codemirror_mode": {
    "name": "ipython",
    "version": 3
   },
   "file_extension": ".py",
   "mimetype": "text/x-python",
   "name": "python",
   "nbconvert_exporter": "python",
   "pygments_lexer": "ipython3",
   "version": "3.13.2"
  }
 },
 "nbformat": 4,
 "nbformat_minor": 5
}
